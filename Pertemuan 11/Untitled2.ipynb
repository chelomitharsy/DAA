{
 "cells": [
  {
   "cell_type": "code",
   "execution_count": 1,
   "id": "be2f8398-e90d-4899-a431-3446d699e33b",
   "metadata": {},
   "outputs": [],
   "source": [
    "# R-----O-----M\n",
    "# |     |     |\n",
    "# L-----P-----N"
   ]
  },
  {
   "cell_type": "code",
   "execution_count": null,
   "id": "e7156aaa-3f5a-482a-b5ec-4fedb71fa626",
   "metadata": {},
   "outputs": [],
   "source": [
    "graph = { \"r\" "
   ]
  }
 ],
 "metadata": {
  "kernelspec": {
   "display_name": "Python 3 (ipykernel)",
   "language": "python",
   "name": "python3"
  },
  "language_info": {
   "codemirror_mode": {
    "name": "ipython",
    "version": 3
   },
   "file_extension": ".py",
   "mimetype": "text/x-python",
   "name": "python",
   "nbconvert_exporter": "python",
   "pygments_lexer": "ipython3",
   "version": "3.9.12"
  }
 },
 "nbformat": 4,
 "nbformat_minor": 5
}
