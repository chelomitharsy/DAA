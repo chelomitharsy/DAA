{
 "cells": [
  {
   "cell_type": "code",
   "execution_count": 1,
   "id": "e74f3127-a60e-4a20-bf2f-16568a59b115",
   "metadata": {},
   "outputs": [],
   "source": [
    "# a-----b\n",
    "# |     |\n",
    "# |     |\n",
    "# c-----d-----e"
   ]
  },
  {
   "cell_type": "code",
   "execution_count": 2,
   "id": "312ce852-2f73-43d5-bf08-281f6a094905",
   "metadata": {},
   "outputs": [
    {
     "name": "stdout",
     "output_type": "stream",
     "text": [
      "{'a': ['b', 'c'], 'b': ['a', 'd'], 'c': ['a', 'd'], 'd': ['e'], 'e': ['d']}\n"
     ]
    }
   ],
   "source": [
    "#Create the dictionary with graph elements\n",
    "graph = { \"a\" : [\"b\", \"c\"],\n",
    "          \"b\" : [\"a\", \"d\"],\n",
    "          \"c\" : [\"a\", \"d\"],\n",
    "          \"d\" : [\"e\"],\n",
    "          \"e\" : [\"d\"]\n",
    "        }\n",
    "\n",
    "#Print the graph\n",
    "print(graph)"
   ]
  },
  {
   "cell_type": "code",
   "execution_count": null,
   "id": "df04c235-cdfb-4865-9b0e-e0ab39d28e50",
   "metadata": {},
   "outputs": [],
   "source": []
  }
 ],
 "metadata": {
  "kernelspec": {
   "display_name": "Python 3 (ipykernel)",
   "language": "python",
   "name": "python3"
  },
  "language_info": {
   "codemirror_mode": {
    "name": "ipython",
    "version": 3
   },
   "file_extension": ".py",
   "mimetype": "text/x-python",
   "name": "python",
   "nbconvert_exporter": "python",
   "pygments_lexer": "ipython3",
   "version": "3.9.12"
  }
 },
 "nbformat": 4,
 "nbformat_minor": 5
}
