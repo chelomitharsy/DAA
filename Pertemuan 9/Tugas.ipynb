{
 "cells": [
  {
   "cell_type": "code",
   "execution_count": 14,
   "id": "62f3015a-caec-4d1f-ac97-f02beac2723a",
   "metadata": {},
   "outputs": [],
   "source": [
    "import numpy as np\n",
    "import networkx as nx\n",
    "import matplotlib.pyplot as plt\n",
    "%matplotlib inline"
   ]
  },
  {
   "cell_type": "code",
   "execution_count": 15,
   "id": "0fd65ebe-055f-46bb-ae64-12b94f867513",
   "metadata": {},
   "outputs": [],
   "source": [
    "myWeb = nx.DiGraph()\n",
    "myPages = range(1,6)"
   ]
  },
  {
   "cell_type": "code",
   "execution_count": 16,
   "id": "3aa80ace-b672-4108-b926-709f9b17cf0f",
   "metadata": {},
   "outputs": [],
   "source": [
    "connections = [(1,2),(2,3),(3,4),(4,5),(5,6)]\n",
    "myWeb.add_nodes_from(myPages)\n",
    "myWeb.add_edges_from(connections)"
   ]
  },
  {
   "cell_type": "code",
   "execution_count": 30,
   "id": "d78d2ec5-9c89-430e-813e-76e5b890c4c8",
   "metadata": {},
   "outputs": [
    {
     "data": {
      "image/png": "[encoded data removed]",
      "text/plain": [
       "<Figure size 432x288 with 1 Axes>"
      ]
     },
     "metadata": {},
     "output_type": "display_data"
    }
   ],
   "source": [
    "pos = nx.spring_layout(myWeb, seed=40)\n",
    "nx.draw(myWeb, pos, arrows=True, with_labels=True, node_color='pink', edge_color='pink')\n",
    "plt.show()"
   ]
  },
  {
   "cell_type": "code",
   "execution_count": 23,
   "id": "05d77c8b-0b34-436f-bffe-6e4cd14e2bbf",
   "metadata": {},
   "outputs": [],
   "source": [
    "def createPageRank(aGraph):\n",
    "    nodes_set = len(aGraph)\n",
    "    M = nx.to_numpy_matrix(aGraph)\n",
    "    outwards = np.squeeze(np.asarray(np.sum(M, axis=1)))\n",
    "    prob_outwards = np.array(\n",
    "        [1.0/count\n",
    "         if count>0 else 0.0 for count in outwards])\n",
    "    G = np.asarray(np.multiply(M.T, prob_outwards))\n",
    "    p = np.ones(nodes_set)/float(nodes_set)\n",
    "    if np.min(np.sum(G,axis=0)) < 1.0:\n",
    "        print('WARN: G is substochastic')\n",
    "    return G,p"
   ]
  },
  {
   "cell_type": "code",
   "execution_count": 24,
   "id": "60f08428-ac40-4800-9d12-6ca5dc24101f",
   "metadata": {},
   "outputs": [
    {
     "name": "stdout",
     "output_type": "stream",
     "text": [
      "WARN: G is substochastic\n",
      "[[0. 0. 0. 0. 0. 0.]\n",
      " [1. 0. 0. 0. 0. 0.]\n",
      " [0. 1. 0. 0. 0. 0.]\n",
      " [0. 0. 1. 0. 0. 0.]\n",
      " [0. 0. 0. 1. 0. 0.]\n",
      " [0. 0. 0. 0. 1. 0.]]\n"
     ]
    }
   ],
   "source": [
    "G, p = createPageRank(myWeb)\n",
    "print (G)"
   ]
  },
  {
   "cell_type": "code",
   "execution_count": null,
   "id": "907b8b1f-dd38-4bb8-b948-80c675778e56",
   "metadata": {},
   "outputs": [],
   "source": []
  }
 ],
 "metadata": {
  "kernelspec": {
   "display_name": "Python 3 (ipykernel)",
   "language": "python",
   "name": "python3"
  },
  "language_info": {
   "codemirror_mode": {
    "name": "ipython",
    "version": 3
   },
   "file_extension": ".py",
   "mimetype": "text/x-python",
   "name": "python",
   "nbconvert_exporter": "python",
   "pygments_lexer": "ipython3",
   "version": "3.9.12"
  }
 },
 "nbformat": 4,
 "nbformat_minor": 5
}
