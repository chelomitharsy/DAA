{
 "cells": [
  {
   "cell_type": "code",
   "execution_count": 16,
   "id": "ce824bca-1308-4c37-bb34-28653316f69c",
   "metadata": {},
   "outputs": [
    {
     "data": {
      "image/png": "[encoded data removed]",
      "text/plain": [
       "<Figure size 432x288 with 1 Axes>"
      ]
     },
     "metadata": {},
     "output_type": "display_data"
    }
   ],
   "source": [
    "import networkx as nx\n",
    "import matplotlib.pyplot as plt\n",
    "vertices = range(1,10)\n",
    "edges = [('bob', 'mike'), ('bob', 'jill'), ('bob','john'), ('bob','emma'), ('mike','jill'), ('mike','emma'), ('john','jill'), ('john','shanne'), ('john','leah'), ('jill','emma'), ('jill', 'leah'), ('jill', 'shane'), ('shane','emma'), ('emma','liz'), ('shane', 'liz'), ('liz','allen'), ('allen','lisa')]\n",
    "G = nx.Graph()\n",
    "G.add_edges_from(edges)\n",
    "nx.draw(G, with_labels=True, node_color='y', node_size=500)"
   ]
  },
  {
   "cell_type": "code",
   "execution_count": 11,
   "id": "0fbf5b9d-1c76-4a80-a379-a4da63b4215f",
   "metadata": {},
   "outputs": [
    {
     "data": {
      "text/plain": [
       "{'bob': 0.4,\n",
       " 'mike': 0.30000000000000004,\n",
       " 'jill': 0.6000000000000001,\n",
       " 'john': 0.4,\n",
       " 'emma': 0.5,\n",
       " 'shanne': 0.1,\n",
       " 'leah': 0.2,\n",
       " 'shane': 0.30000000000000004,\n",
       " 'liz': 0.30000000000000004,\n",
       " 'allen': 0.2,\n",
       " 'lisa': 0.1}"
      ]
     },
     "execution_count": 11,
     "metadata": {},
     "output_type": "execute_result"
    }
   ],
   "source": [
    "nx.degree_centrality(G)"
   ]
  },
  {
   "cell_type": "code",
   "execution_count": 12,
   "id": "46c7a7e0-53eb-4ea7-bcd6-ce03e2920e56",
   "metadata": {},
   "outputs": [
    {
     "data": {
      "text/plain": [
       "{'bob': 0.08888888888888889,\n",
       " 'mike': 0.0,\n",
       " 'jill': 0.34444444444444444,\n",
       " 'john': 0.2111111111111111,\n",
       " 'emma': 0.31111111111111106,\n",
       " 'shanne': 0.0,\n",
       " 'leah': 0.0,\n",
       " 'shane': 0.11111111111111109,\n",
       " 'liz': 0.35555555555555557,\n",
       " 'allen': 0.2,\n",
       " 'lisa': 0.0}"
      ]
     },
     "execution_count": 12,
     "metadata": {},
     "output_type": "execute_result"
    }
   ],
   "source": [
    "nx.betweenness_centrality(G)"
   ]
  },
  {
   "cell_type": "code",
   "execution_count": 13,
   "id": "37437211-25f5-4688-9e0a-41bcadcb4364",
   "metadata": {},
   "outputs": [
    {
     "data": {
      "text/plain": [
       "{'bob': 0.5263157894736842,\n",
       " 'mike': 0.47619047619047616,\n",
       " 'jill': 0.5882352941176471,\n",
       " 'john': 0.45454545454545453,\n",
       " 'emma': 0.5882352941176471,\n",
       " 'shanne': 0.3225806451612903,\n",
       " 'leah': 0.4166666666666667,\n",
       " 'shane': 0.5263157894736842,\n",
       " 'liz': 0.47619047619047616,\n",
       " 'allen': 0.35714285714285715,\n",
       " 'lisa': 0.2702702702702703}"
      ]
     },
     "execution_count": 13,
     "metadata": {},
     "output_type": "execute_result"
    }
   ],
   "source": [
    "nx.closeness_centrality(G)"
   ]
  },
  {
   "cell_type": "code",
   "execution_count": 14,
   "id": "2a176690-e890-4522-bc1b-bec57bd5958a",
   "metadata": {},
   "outputs": [],
   "source": [
    "centrality = nx.eigenvector_centrality(G)"
   ]
  },
  {
   "cell_type": "code",
   "execution_count": 15,
   "id": "308826df-549b-4e8d-9d30-00a2366a4e13",
   "metadata": {},
   "outputs": [
    {
     "data": {
      "text/plain": [
       "[('allen', '0.05'),\n",
       " ('bob', '0.40'),\n",
       " ('emma', '0.44'),\n",
       " ('jill', '0.50'),\n",
       " ('john', '0.30'),\n",
       " ('leah', '0.20'),\n",
       " ('lisa', '0.01'),\n",
       " ('liz', '0.20'),\n",
       " ('mike', '0.34'),\n",
       " ('shane', '0.29'),\n",
       " ('shanne', '0.08')]"
      ]
     },
     "execution_count": 15,
     "metadata": {},
     "output_type": "execute_result"
    }
   ],
   "source": [
    "sorted((v, '{:0.2f}'.format(c)) for v, c in centrality.items())"
   ]
  },
  {
   "cell_type": "code",
   "execution_count": null,
   "id": "78a758ec-86c3-4b94-8238-06a5728ca8d0",
   "metadata": {},
   "outputs": [],
   "source": []
  }
 ],
 "metadata": {
  "kernelspec": {
   "display_name": "Python 3 (ipykernel)",
   "language": "python",
   "name": "python3"
  },
  "language_info": {
   "codemirror_mode": {
    "name": "ipython",
    "version": 3
   },
   "file_extension": ".py",
   "mimetype": "text/x-python",
   "name": "python",
   "nbconvert_exporter": "python",
   "pygments_lexer": "ipython3",
   "version": "3.9.12"
  }
 },
 "nbformat": 4,
 "nbformat_minor": 5
}
