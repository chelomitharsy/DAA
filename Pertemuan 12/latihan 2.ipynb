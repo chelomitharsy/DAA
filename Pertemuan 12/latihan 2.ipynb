{
 "cells": [
  {
   "cell_type": "code",
   "execution_count": 3,
   "id": "85c1f527-d457-44ba-bc47-2a7cadac0d88",
   "metadata": {},
   "outputs": [
    {
     "data": {
      "image/png": "[encoded data removed]",
      "text/plain": [
       "<Figure size 432x288 with 1 Axes>"
      ]
     },
     "metadata": {},
     "output_type": "display_data"
    }
   ],
   "source": [
    "import networkx as nx\n",
    "import matplotlib.pyplot as plt\n",
    "vertices = range(1,15)\n",
    "edges = [(9,6), (7,6), (14,6), (8,6), (6,2), (2,11), (2,15), (2,12), (2,1), (2,3), (3,13), (3,5), (1,4), (1,10)]\n",
    "G = nx.Graph()\n",
    "G.add_nodes_from(vertices)\n",
    "G.add_edges_from(edges)\n",
    "nx.draw(G, with_labels=True, node_color='y', node_size=800)"
   ]
  },
  {
   "cell_type": "code",
   "execution_count": 4,
   "id": "dc7b6e2b-97ca-47e0-945e-ef94d947bc48",
   "metadata": {},
   "outputs": [
    {
     "data": {
      "text/plain": [
       "{1: 0.21428571428571427,\n",
       " 2: 0.42857142857142855,\n",
       " 3: 0.21428571428571427,\n",
       " 4: 0.07142857142857142,\n",
       " 5: 0.07142857142857142,\n",
       " 6: 0.3571428571428571,\n",
       " 7: 0.07142857142857142,\n",
       " 8: 0.07142857142857142,\n",
       " 9: 0.07142857142857142,\n",
       " 10: 0.07142857142857142,\n",
       " 11: 0.07142857142857142,\n",
       " 12: 0.07142857142857142,\n",
       " 13: 0.07142857142857142,\n",
       " 14: 0.07142857142857142,\n",
       " 15: 0.07142857142857142}"
      ]
     },
     "execution_count": 4,
     "metadata": {},
     "output_type": "execute_result"
    }
   ],
   "source": [
    "nx.degree_centrality(G)"
   ]
  },
  {
   "cell_type": "code",
   "execution_count": 5,
   "id": "3ef52502-e177-4a40-8c6c-bd17b67e8d18",
   "metadata": {},
   "outputs": [
    {
     "data": {
      "text/plain": [
       "{1: 0.27472527472527475,\n",
       " 2: 0.8241758241758242,\n",
       " 3: 0.27472527472527475,\n",
       " 4: 0.0,\n",
       " 5: 0.0,\n",
       " 6: 0.5054945054945056,\n",
       " 7: 0.0,\n",
       " 8: 0.0,\n",
       " 9: 0.0,\n",
       " 10: 0.0,\n",
       " 11: 0.0,\n",
       " 12: 0.0,\n",
       " 13: 0.0,\n",
       " 14: 0.0,\n",
       " 15: 0.0}"
      ]
     },
     "execution_count": 5,
     "metadata": {},
     "output_type": "execute_result"
    }
   ],
   "source": [
    "nx.betweenness_centrality(G)"
   ]
  },
  {
   "cell_type": "code",
   "execution_count": 6,
   "id": "88a9731a-40ee-43fe-9734-6d8de227fd9f",
   "metadata": {},
   "outputs": [
    {
     "data": {
      "text/plain": [
       "{1: 0.45161290322580644,\n",
       " 2: 0.6363636363636364,\n",
       " 3: 0.45161290322580644,\n",
       " 4: 0.3181818181818182,\n",
       " 5: 0.3181818181818182,\n",
       " 6: 0.5185185185185185,\n",
       " 7: 0.35,\n",
       " 8: 0.35,\n",
       " 9: 0.35,\n",
       " 10: 0.3181818181818182,\n",
       " 11: 0.4,\n",
       " 12: 0.4,\n",
       " 13: 0.3181818181818182,\n",
       " 14: 0.35,\n",
       " 15: 0.4}"
      ]
     },
     "execution_count": 6,
     "metadata": {},
     "output_type": "execute_result"
    }
   ],
   "source": [
    "nx.closeness_centrality(G)"
   ]
  },
  {
   "cell_type": "code",
   "execution_count": 7,
   "id": "596a1616-be42-4573-a3c9-b361299a93fa",
   "metadata": {},
   "outputs": [],
   "source": [
    "centrality = nx.eigenvector_centrality(G)"
   ]
  },
  {
   "cell_type": "code",
   "execution_count": 8,
   "id": "6bf3ffc8-011a-4d61-ab3f-bf493e492fc7",
   "metadata": {},
   "outputs": [
    {
     "data": {
      "text/plain": [
       "[(1, '0.29'),\n",
       " (2, '0.60'),\n",
       " (3, '0.29'),\n",
       " (4, '0.10'),\n",
       " (5, '0.10'),\n",
       " (6, '0.44'),\n",
       " (7, '0.16'),\n",
       " (8, '0.16'),\n",
       " (9, '0.16'),\n",
       " (10, '0.10'),\n",
       " (11, '0.21'),\n",
       " (12, '0.21'),\n",
       " (13, '0.10'),\n",
       " (14, '0.16'),\n",
       " (15, '0.21')]"
      ]
     },
     "execution_count": 8,
     "metadata": {},
     "output_type": "execute_result"
    }
   ],
   "source": [
    "sorted((v, '{:0.2f}'.format(c)) for v, c in centrality.items())"
   ]
  },
  {
   "cell_type": "code",
   "execution_count": null,
   "id": "067cc2f5-9e7b-4b82-a4f4-3bf6b79e0608",
   "metadata": {},
   "outputs": [],
   "source": []
  }
 ],
 "metadata": {
  "kernelspec": {
   "display_name": "Python 3 (ipykernel)",
   "language": "python",
   "name": "python3"
  },
  "language_info": {
   "codemirror_mode": {
    "name": "ipython",
    "version": 3
   },
   "file_extension": ".py",
   "mimetype": "text/x-python",
   "name": "python",
   "nbconvert_exporter": "python",
   "pygments_lexer": "ipython3",
   "version": "3.9.12"
  }
 },
 "nbformat": 4,
 "nbformat_minor": 5
}
