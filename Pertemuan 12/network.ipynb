{
 "cells": [
  {
   "cell_type": "code",
   "execution_count": 2,
   "id": "0a56cdd1-4ff7-4326-8e3c-9f81cbfc2356",
   "metadata": {},
   "outputs": [
    {
     "data": {
      "image/png": "[encoded data removed]",
      "text/plain": [
       "<Figure size 432x288 with 1 Axes>"
      ]
     },
     "metadata": {},
     "output_type": "display_data"
    }
   ],
   "source": [
    "import networkx as nx\n",
    "import matplotlib.pyplot as plt\n",
    "vertices = range(1,10)\n",
    "edges = [(7,2), (2,3), (7,4), (4,5), (7,3), (7,5), (1,6), (1,7), (2,8), (2,9)]\n",
    "G = nx.Graph()\n",
    "G.add_nodes_from(vertices)\n",
    "G.add_edges_from(edges)\n",
    "nx.draw(G, with_labels=True, node_color='y', node_size=800)"
   ]
  },
  {
   "cell_type": "code",
   "execution_count": 3,
   "id": "1b78a963-f56c-425c-9097-ae00873ecbe4",
   "metadata": {},
   "outputs": [
    {
     "data": {
      "text/plain": [
       "{1: 0.25,\n",
       " 2: 0.5,\n",
       " 3: 0.25,\n",
       " 4: 0.25,\n",
       " 5: 0.25,\n",
       " 6: 0.125,\n",
       " 7: 0.625,\n",
       " 8: 0.125,\n",
       " 9: 0.125}"
      ]
     },
     "execution_count": 3,
     "metadata": {},
     "output_type": "execute_result"
    }
   ],
   "source": [
    "nx.degree_centrality(G)"
   ]
  },
  {
   "cell_type": "code",
   "execution_count": 4,
   "id": "c3fa8ee8-c7f4-4fb7-bf5f-52223689c048",
   "metadata": {},
   "outputs": [
    {
     "data": {
      "text/plain": [
       "{1: 0.25,\n",
       " 2: 0.46428571428571425,\n",
       " 3: 0.0,\n",
       " 4: 0.0,\n",
       " 5: 0.0,\n",
       " 6: 0.0,\n",
       " 7: 0.7142857142857142,\n",
       " 8: 0.0,\n",
       " 9: 0.0}"
      ]
     },
     "execution_count": 4,
     "metadata": {},
     "output_type": "execute_result"
    }
   ],
   "source": [
    "nx.betweenness_centrality(G)"
   ]
  },
  {
   "cell_type": "code",
   "execution_count": 5,
   "id": "f2d87f66-6d8f-4a16-8340-16919f5b21c6",
   "metadata": {},
   "outputs": [
    {
     "data": {
      "text/plain": [
       "{1: 0.5,\n",
       " 2: 0.6153846153846154,\n",
       " 3: 0.5333333333333333,\n",
       " 4: 0.47058823529411764,\n",
       " 5: 0.47058823529411764,\n",
       " 6: 0.34782608695652173,\n",
       " 7: 0.7272727272727273,\n",
       " 8: 0.4,\n",
       " 9: 0.4}"
      ]
     },
     "execution_count": 5,
     "metadata": {},
     "output_type": "execute_result"
    }
   ],
   "source": [
    "nx.closeness_centrality(G)"
   ]
  },
  {
   "cell_type": "code",
   "execution_count": 6,
   "id": "7474d3c2-3f53-45cb-bc91-1212dde46b60",
   "metadata": {},
   "outputs": [],
   "source": [
    "centrality = nx.eigenvector_centrality(G)"
   ]
  },
  {
   "cell_type": "code",
   "execution_count": 7,
   "id": "3f046af5-ae71-4043-a295-c1688299f02c",
   "metadata": {},
   "outputs": [
    {
     "data": {
      "text/plain": [
       "[(1, '0.24'),\n",
       " (2, '0.45'),\n",
       " (3, '0.36'),\n",
       " (4, '0.32'),\n",
       " (5, '0.32'),\n",
       " (6, '0.08'),\n",
       " (7, '0.59'),\n",
       " (8, '0.16'),\n",
       " (9, '0.16')]"
      ]
     },
     "execution_count": 7,
     "metadata": {},
     "output_type": "execute_result"
    }
   ],
   "source": [
    "sorted((v, '{:0.2f}'.format(c)) for v, c in centrality.items())"
   ]
  },
  {
   "cell_type": "code",
   "execution_count": null,
   "id": "a86b624b-8eff-4c79-974a-92a5d39b7206",
   "metadata": {},
   "outputs": [],
   "source": []
  }
 ],
 "metadata": {
  "kernelspec": {
   "display_name": "Python 3 (ipykernel)",
   "language": "python",
   "name": "python3"
  },
  "language_info": {
   "codemirror_mode": {
    "name": "ipython",
    "version": 3
   },
   "file_extension": ".py",
   "mimetype": "text/x-python",
   "name": "python",
   "nbconvert_exporter": "python",
   "pygments_lexer": "ipython3",
   "version": "3.9.12"
  }
 },
 "nbformat": 4,
 "nbformat_minor": 5
}
