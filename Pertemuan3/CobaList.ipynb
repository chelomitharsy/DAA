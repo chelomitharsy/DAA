{
 "cells": [
  {
   "cell_type": "code",
   "execution_count": 1,
   "id": "4edd5de7-3a01-4cb5-a5d8-b2482c4ce01d",
   "metadata": {},
   "outputs": [
    {
     "name": "stdout",
     "output_type": "stream",
     "text": [
      "['Chelo', 19, 'UPJ', True]\n"
     ]
    }
   ],
   "source": [
    "aList = [\"Chelo\", 19, \"UPJ\", True]\n",
    "print(aList)"
   ]
  },
  {
   "cell_type": "code",
   "execution_count": 25,
   "id": "71cf5946-19c6-4df4-a0e1-eae3f165bbfa",
   "metadata": {},
   "outputs": [
    {
     "name": "stdout",
     "output_type": "stream",
     "text": [
      "Mahasiswa=  ['Mahasiswa', 'Chelomitha Arsy P', 2021071042, 'Informatika', 'DAA', '14 September 2022', 'UPJ']\n"
     ]
    }
   ],
   "source": [
    "aList = [\"Mahasiswa\", \"Chelomitha Arsy P\", 2021071042, \"Informatika\", \"DAA\", \"14 September 2022\", \"UPJ\"]\n",
    "print(\"Mahasiswa= \", aList)"
   ]
  }
 ],
 "metadata": {
  "kernelspec": {
   "display_name": "Python 3 (ipykernel)",
   "language": "python",
   "name": "python3"
  },
  "language_info": {
   "codemirror_mode": {
    "name": "ipython",
    "version": 3
   },
   "file_extension": ".py",
   "mimetype": "text/x-python",
   "name": "python",
   "nbconvert_exporter": "python",
   "pygments_lexer": "ipython3",
   "version": "3.9.12"
  },
  "toc-showcode": false
 },
 "nbformat": 4,
 "nbformat_minor": 5
}
