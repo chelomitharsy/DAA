{
 "cells": [
  {
   "cell_type": "code",
   "execution_count": 3,
   "id": "a40c0b8b-a7f4-48a2-b6fb-b84e1f81517a",
   "metadata": {},
   "outputs": [
    {
     "data": {
      "text/plain": [
       "'blue'"
      ]
     },
     "execution_count": 3,
     "metadata": {},
     "output_type": "execute_result"
    }
   ],
   "source": [
    "#ListIndex\n",
    "bin_colors = ['red', 'green', 'blue', 'yellow']\n",
    "bin_colors[2]"
   ]
  },
  {
   "cell_type": "code",
   "execution_count": 10,
   "id": "2ba40874-d44a-4cd2-b81b-30e93601ced8",
   "metadata": {},
   "outputs": [
    {
     "data": {
      "text/plain": [
       "['red', 'green']"
      ]
     },
     "execution_count": 10,
     "metadata": {},
     "output_type": "execute_result"
    }
   ],
   "source": [
    "#Slicing\n",
    "bin_colors[0:2]"
   ]
  },
  {
   "cell_type": "code",
   "execution_count": 12,
   "id": "4efe004a-83dd-48b5-9895-a5e6c82edec9",
   "metadata": {},
   "outputs": [
    {
     "data": {
      "text/plain": [
       "'2021071042'"
      ]
     },
     "execution_count": 12,
     "metadata": {},
     "output_type": "execute_result"
    }
   ],
   "source": [
    "#istIndex\n",
    "mahasiswa = ['chelomitha', '2021071042', 'Informatika', 'DAA', '14/9/2022', 'UPJ']\n",
    "mahasiswa[1]"
   ]
  },
  {
   "cell_type": "code",
   "execution_count": 13,
   "id": "968b4a51-30c4-4a2f-a064-1d7332758ee7",
   "metadata": {},
   "outputs": [
    {
     "data": {
      "text/plain": [
       "'14/9/2022'"
      ]
     },
     "execution_count": 13,
     "metadata": {},
     "output_type": "execute_result"
    }
   ],
   "source": [
    "mahasiswa[4]"
   ]
  },
  {
   "cell_type": "code",
   "execution_count": 14,
   "id": "39ad74bb-2087-438f-bb40-f502a7c2c668",
   "metadata": {},
   "outputs": [
    {
     "data": {
      "text/plain": [
       "['2021071042', 'Informatika']"
      ]
     },
     "execution_count": 14,
     "metadata": {},
     "output_type": "execute_result"
    }
   ],
   "source": [
    "#Slicing\n",
    "mahasiswa[1:3]"
   ]
  },
  {
   "cell_type": "code",
   "execution_count": 1,
   "id": "5722b41b-69c2-4430-a4db-975062011629",
   "metadata": {},
   "outputs": [
    {
     "name": "stdout",
     "output_type": "stream",
     "text": [
      "red square\n",
      "green square\n",
      "blue square\n",
      "yellow square\n"
     ]
    }
   ],
   "source": [
    "#Iterasi\n",
    "bin_colors = ['red', 'green', 'blue', 'yellow']\n",
    "for aColor in bin_colors:\n",
    "    print(aColor + \" square\")"
   ]
  },
  {
   "cell_type": "code",
   "execution_count": 25,
   "id": "a9bf7b44-146b-4f3c-9820-770d7742ccfe",
   "metadata": {},
   "outputs": [
    {
     "name": "stdout",
     "output_type": "stream",
     "text": [
      "UPJ chelomitha\n",
      "UPJ 2021071042\n",
      "UPJ Informatika\n",
      "UPJ DAA\n",
      "UPJ 14/9/2022\n",
      "UPJ UPJ\n"
     ]
    }
   ],
   "source": [
    "for mhs in mahasiswa:\n",
    "    print(\"UPJ \" + mhs)"
   ]
  },
  {
   "cell_type": "code",
   "execution_count": 2,
   "id": "d7476364-6241-4fb6-8f6a-1abbe94a77e3",
   "metadata": {},
   "outputs": [
    {
     "data": {
      "text/plain": [
       "'Green'"
      ]
     },
     "execution_count": 2,
     "metadata": {},
     "output_type": "execute_result"
    }
   ],
   "source": [
    "#Tuples tidak bisa diubah (read-only)\n",
    "bin_colors = ('Red','Green','Blue','Yellow')\n",
    "bin_colors[1]"
   ]
  },
  {
   "cell_type": "code",
   "execution_count": 27,
   "id": "160e004c-3087-4db1-9af4-a38517499dba",
   "metadata": {},
   "outputs": [
    {
     "data": {
      "text/plain": [
       "('Blue', 'Yellow')"
      ]
     },
     "execution_count": 27,
     "metadata": {},
     "output_type": "execute_result"
    }
   ],
   "source": [
    "bin_colors[2:]"
   ]
  },
  {
   "cell_type": "code",
   "execution_count": 3,
   "id": "c205fb8e-8790-48c0-826b-8f250634249d",
   "metadata": {},
   "outputs": [
    {
     "data": {
      "text/plain": [
       "('Universitas', 'Pembangunan', 'Jaya')"
      ]
     },
     "execution_count": 3,
     "metadata": {},
     "output_type": "execute_result"
    }
   ],
   "source": [
    "upj = ('Universitas', 'Pembangunan', 'Jaya')\n",
    "upj[0:]"
   ]
  },
  {
   "cell_type": "code",
   "execution_count": 6,
   "id": "5f7c57be-ce26-4cd9-bc25-46917d6aa6fb",
   "metadata": {},
   "outputs": [
    {
     "data": {
      "text/plain": [
       "(200, 400, 600)"
      ]
     },
     "execution_count": 6,
     "metadata": {},
     "output_type": "execute_result"
    }
   ],
   "source": [
    "nested_tuple = (100, (200,400,600),(300), (400, 800))\n",
    "nested_tuple[1]"
   ]
  },
  {
   "cell_type": "code",
   "execution_count": 7,
   "id": "d4f55023-f6ec-4cea-95d9-73d25a0f43dd",
   "metadata": {},
   "outputs": [
    {
     "name": "stdout",
     "output_type": "stream",
     "text": [
      "{'manual_color': 'Yellow', 'approved_color': 'Green', 'refused_color': 'Red'}\n"
     ]
    }
   ],
   "source": [
    "bin_colors ={\n",
    "\"manual_color\": \"Yellow\",\n",
    "\"approved_color\": \"Green\",\n",
    "\"refused_color\": \"Red\"\n",
    "}\n",
    "print(bin_colors)"
   ]
  },
  {
   "cell_type": "code",
   "execution_count": 8,
   "id": "71225ec3-a4e8-408d-ac0d-12a5719a8f61",
   "metadata": {},
   "outputs": [
    {
     "data": {
      "text/plain": [
       "'Green'"
      ]
     },
     "execution_count": 8,
     "metadata": {},
     "output_type": "execute_result"
    }
   ],
   "source": [
    "bin_colors.get('approved_color')"
   ]
  },
  {
   "cell_type": "code",
   "execution_count": 9,
   "id": "00994b69-2a58-4bdc-9147-ee4242dd0dd9",
   "metadata": {},
   "outputs": [
    {
     "data": {
      "text/plain": [
       "'Green'"
      ]
     },
     "execution_count": 9,
     "metadata": {},
     "output_type": "execute_result"
    }
   ],
   "source": [
    "bin_colors['approved_color']"
   ]
  },
  {
   "cell_type": "code",
   "execution_count": 15,
   "id": "28e7bdec-f7d4-4fbe-91e1-3e842e65061f",
   "metadata": {},
   "outputs": [
    {
     "name": "stdout",
     "output_type": "stream",
     "text": [
      "{'manual_color': 'black', 'approved_color': 'purple', 'refused_color': 'grey'}\n"
     ]
    }
   ],
   "source": [
    "bin_colors['approved_color'] = \"purple\"\n",
    "print(bin_colors)"
   ]
  },
  {
   "cell_type": "code",
   "execution_count": 19,
   "id": "74d506b7-d967-424a-8820-e057419abc1a",
   "metadata": {},
   "outputs": [
    {
     "name": "stdout",
     "output_type": "stream",
     "text": [
      "{'Nama': 'Chelomitha Arsy Pratiwi', 'NIM': 2021071042, 'Prodi': 'Informatika', 'Universitas': 'UPJ'}\n"
     ]
    }
   ],
   "source": [
    "data = {\n",
    "    \"Nama\": \"Chelomitha Arsy Pratiwi\",\n",
    "    \"NIM\": 2021071042,\n",
    "    \"Prodi\": \"Informatika\",\n",
    "    \"Universitas\": \"UPJ\"\n",
    "}\n",
    "print(data)"
   ]
  },
  {
   "cell_type": "code",
   "execution_count": 21,
   "id": "09522492-1af3-4ea6-b10f-c28557bfe8a1",
   "metadata": {},
   "outputs": [
    {
     "name": "stdout",
     "output_type": "stream",
     "text": [
      "{'grass', 'leaves'}\n"
     ]
    }
   ],
   "source": [
    "green = {'grass', 'leaves'}\n",
    "print(green)"
   ]
  },
  {
   "cell_type": "code",
   "execution_count": 24,
   "id": "8bece48e-dd68-4c52-8615-0118af627bdb",
   "metadata": {},
   "outputs": [
    {
     "name": "stdout",
     "output_type": "stream",
     "text": [
      "{'grass', 'leaves'}\n"
     ]
    }
   ],
   "source": [
    "green = {'grass', 'leaves', 'leaves'}\n",
    "print(green)"
   ]
  },
  {
   "cell_type": "code",
   "execution_count": 27,
   "id": "4039701d-48b7-4385-ad9a-c2812239aa70",
   "metadata": {},
   "outputs": [
    {
     "ename": "SyntaxError",
     "evalue": "invalid syntax (4188252446.py, line 1)",
     "output_type": "error",
     "traceback": [
      "\u001b[1;36m  Input \u001b[1;32mIn [27]\u001b[1;36m\u001b[0m\n\u001b[1;33m    yellow = red =\u001b[0m\n\u001b[1;37m                  ^\u001b[0m\n\u001b[1;31mSyntaxError\u001b[0m\u001b[1;31m:\u001b[0m invalid syntax\n"
     ]
    }
   ],
   "source": [
    "#foto yg laptop\n",
    "{'dandelions', 'fire hydrant', 'blood', 'rose', 'leaves'}\n",
    "yellow&red"
   ]
  },
  {
   "cell_type": "code",
   "execution_count": 29,
   "id": "ff52122c-701d-41ac-9712-5bad13c19391",
   "metadata": {},
   "outputs": [],
   "source": [
    "#install pandas\n",
    "import pandas as pd\n",
    "df = pd.DataFrame([\n",
    "['1', 'Fares', 32, True],\n",
    "['2', 'Elena', 23, False],\n",
    "['3', 'Steven', 40, True]])"
   ]
  },
  {
   "cell_type": "code",
   "execution_count": null,
   "id": "efe104b4-d895-47fd-b1fd-097c001f7cb9",
   "metadata": {},
   "outputs": [],
   "source": []
  }
 ],
 "metadata": {
  "kernelspec": {
   "display_name": "Python 3 (ipykernel)",
   "language": "python",
   "name": "python3"
  },
  "language_info": {
   "codemirror_mode": {
    "name": "ipython",
    "version": 3
   },
   "file_extension": ".py",
   "mimetype": "text/x-python",
   "name": "python",
   "nbconvert_exporter": "python",
   "pygments_lexer": "ipython3",
   "version": "3.9.12"
  }
 },
 "nbformat": 4,
 "nbformat_minor": 5
}
