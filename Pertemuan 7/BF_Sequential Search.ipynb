{
 "cells": [
  {
   "cell_type": "code",
   "execution_count": 12,
   "id": "855e4e33-00a7-4bfb-9446-d9ff89283603",
   "metadata": {},
   "outputs": [],
   "source": [
    "def Sequential_Search(dlist, item):\n",
    "\n",
    "    pos = 0\n",
    "    found = False\n",
    "    \n",
    "    while pos < len(dlist) and not found:\n",
    "        if dlist[pos] == item:\n",
    "            found = True\n",
    "        else:\n",
    "            pos = pos + 1\n",
    "            \n",
    "    return found, pos"
   ]
  },
  {
   "cell_type": "code",
   "execution_count": 13,
   "id": "92d580ce-6173-4ce9-8f5b-014c7f81c87e",
   "metadata": {},
   "outputs": [
    {
     "name": "stdout",
     "output_type": "stream",
     "text": [
      "(True, 3)\n"
     ]
    }
   ],
   "source": [
    "print(Sequential_Search([11,23,58,31,56,77,42,12,65,19],31))"
   ]
  },
  {
   "cell_type": "code",
   "execution_count": 14,
   "id": "2b713fa1-f077-446b-a43a-b49f74d5dce1",
   "metadata": {},
   "outputs": [
    {
     "name": "stdout",
     "output_type": "stream",
     "text": [
      "(True, 6)\n"
     ]
    }
   ],
   "source": [
    "#untuk huruf jangan lupa tanda petik yaa\n",
    "print(Sequential_Search(['a','b','c','d','e','f','g','h'],'g'))"
   ]
  },
  {
   "cell_type": "code",
   "execution_count": null,
   "id": "ef58213b-5348-45cc-b040-8c2e24f42c38",
   "metadata": {},
   "outputs": [],
   "source": []
  }
 ],
 "metadata": {
  "kernelspec": {
   "display_name": "Python 3 (ipykernel)",
   "language": "python",
   "name": "python3"
  },
  "language_info": {
   "codemirror_mode": {
    "name": "ipython",
    "version": 3
   },
   "file_extension": ".py",
   "mimetype": "text/x-python",
   "name": "python",
   "nbconvert_exporter": "python",
   "pygments_lexer": "ipython3",
   "version": "3.9.12"
  }
 },
 "nbformat": 4,
 "nbformat_minor": 5
}
