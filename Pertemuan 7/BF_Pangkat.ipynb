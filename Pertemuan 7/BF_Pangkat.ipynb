{
 "cells": [
  {
   "cell_type": "code",
   "execution_count": 3,
   "id": "d1b49303-1693-4196-b7c2-848f5181a317",
   "metadata": {},
   "outputs": [
    {
     "name": "stdin",
     "output_type": "stream",
     "text": [
      "Masukkan bilangan:  5\n",
      "Masukkan pangkat:  3\n"
     ]
    },
    {
     "name": "stdout",
     "output_type": "stream",
     "text": [
      "Hasil = 125\n"
     ]
    }
   ],
   "source": [
    "bilangan = int(input('Masukkan bilangan: '))\n",
    "pangkat = int(input('Masukkan pangkat: '))\n",
    "\n",
    "def hitung_pangkat(bilangan, pangkat):\n",
    "    if pangkat > 1:\n",
    "        return bilangan * hitung_pangkat(bilangan, pangkat - 1)\n",
    "    \n",
    "    return bilangan\n",
    "\n",
    "hasil = hitung_pangkat(bilangan, pangkat)\n",
    "print(f'Hasil = {hasil}')"
   ]
  },
  {
   "cell_type": "code",
   "execution_count": 3,
   "id": "ab3a9e3b-fc1a-4d93-a048-c4f7942253a8",
   "metadata": {},
   "outputs": [
    {
     "name": "stdin",
     "output_type": "stream",
     "text": [
      "Masukkan bilangan:  5\n",
      "Masukkan pangkat:  2\n"
     ]
    },
    {
     "name": "stdout",
     "output_type": "stream",
     "text": [
      "Hasil = 25\n"
     ]
    }
   ],
   "source": [
    "bilangan = int(input('Masukkan bilangan: '))\n",
    "pangkat = int(input('Masukkan pangkat: '))\n",
    "\n",
    "def hitung_pangkat(bilangan, pangkat):\n",
    "    if pangkat > 1:\n",
    "        return bilangan * hitung_pangkat(bilangan, pangkat - 1)\n",
    "    elif pangkat == 0:\n",
    "        return bilangan/bilangan\n",
    "    \n",
    "    return bilangan\n",
    "hasil = hitung_pangkat(bilangan, pangkat)\n",
    "print(f'Hasil = {hasil}')"
   ]
  },
  {
   "cell_type": "code",
   "execution_count": null,
   "id": "aebc4dbb-e231-483d-9950-e1345ef47189",
   "metadata": {},
   "outputs": [],
   "source": []
  }
 ],
 "metadata": {
  "kernelspec": {
   "display_name": "Python 3 (ipykernel)",
   "language": "python",
   "name": "python3"
  },
  "language_info": {
   "codemirror_mode": {
    "name": "ipython",
    "version": 3
   },
   "file_extension": ".py",
   "mimetype": "text/x-python",
   "name": "python",
   "nbconvert_exporter": "python",
   "pygments_lexer": "ipython3",
   "version": "3.9.12"
  }
 },
 "nbformat": 4,
 "nbformat_minor": 5
}
