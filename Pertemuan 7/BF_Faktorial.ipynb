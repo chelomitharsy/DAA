{
 "cells": [
  {
   "cell_type": "code",
   "execution_count": 2,
   "id": "a169acd6-b77c-4bc2-9a67-0077e9adf3b7",
   "metadata": {},
   "outputs": [
    {
     "name": "stdin",
     "output_type": "stream",
     "text": [
      "Masukkan nilai n:  5\n"
     ]
    },
    {
     "name": "stdout",
     "output_type": "stream",
     "text": [
      "5! = 120\n"
     ]
    }
   ],
   "source": [
    "n = int(input('Masukkan nilai n: '))\n",
    "\n",
    "def hitung_faktorial (n):\n",
    "    if n > 2:\n",
    "        return n * hitung_faktorial(n-1)\n",
    "    \n",
    "    return 2\n",
    "\n",
    "faktorial = hitung_faktorial(n)\n",
    "print(f'{n}! = {faktorial}')"
   ]
  },
  {
   "cell_type": "code",
   "execution_count": null,
   "id": "be2862b8-4be9-4582-aa97-f351ab703e96",
   "metadata": {},
   "outputs": [],
   "source": []
  }
 ],
 "metadata": {
  "kernelspec": {
   "display_name": "Python 3 (ipykernel)",
   "language": "python",
   "name": "python3"
  },
  "language_info": {
   "codemirror_mode": {
    "name": "ipython",
    "version": 3
   },
   "file_extension": ".py",
   "mimetype": "text/x-python",
   "name": "python",
   "nbconvert_exporter": "python",
   "pygments_lexer": "ipython3",
   "version": "3.9.12"
  }
 },
 "nbformat": 4,
 "nbformat_minor": 5
}
