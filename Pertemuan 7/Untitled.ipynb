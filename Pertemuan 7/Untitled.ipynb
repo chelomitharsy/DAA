{
 "cells": [
  {
   "cell_type": "code",
   "execution_count": 8,
   "id": "2ce23919-728f-4e08-b3ca-84047c71410b",
   "metadata": {},
   "outputs": [],
   "source": [
    "import random\n",
    "from itertools import permutations\n",
    "alltours = permutations\n",
    "\n",
    "def distance_tour(aTour):\n",
    "    return sum(distance_points(aTour[i - 1], aTour[i])\n",
    "        for i in range(len(aTour)))\n",
    "\n",
    "aCity = complex\n",
    "\n",
    "def distance_points(first, second):\n",
    "    return abs(first - second)\n",
    "\n",
    "def generate_cities (number_of_cities):\n",
    "    seed=111;width=500;height=300\n",
    "    random.seed((number_of_cities, seed))\n",
    "    return frozenset(aCity(random.randint(1, width), random.randint(1,height))\n",
    "        for c in range(number_of_cities))"
   ]
  },
  {
   "cell_type": "code",
   "execution_count": 13,
   "id": "73a4a852-bff6-496c-a38b-d635c88dd824",
   "metadata": {},
   "outputs": [],
   "source": [
    "%matplotlib inline\n",
    "import matplotlib.pyplot as plt\n",
    "\n",
    "def visualize_tour(tour, style='bo-'):\n",
    "    if len(tour) > 1000: plt.figure(figsize=(15, 10))\n",
    "    start = tour[0:1]\n",
    "    visualize_segment(tour + start, style)\n",
    "    visualize_segment(start, 'rD')\n",
    "def visualize_segment (segment, style='bo-'):\n",
    "    plt.plot([X(c) for c in segment], [Y(c) for c in segment], style, clip_on=False)\n",
    "    plt.axis('scaled')\n",
    "    plt.axis('off')\n",
    "    \n",
    "def X(city): \"X axis\"; return city.real\n",
    "\n",
    "def Y(city): \"Y axis\"; return city.imag"
   ]
  },
  {
   "cell_type": "code",
   "execution_count": 14,
   "id": "75a70a01-6acc-4cf1-9bf0-600825182d3e",
   "metadata": {},
   "outputs": [],
   "source": [
    "from time import process_time\n",
    "from collections import Counter\n",
    "def tsp(algorithm, cities):\n",
    "    t0 = process_time()\n",
    "    tour = algorithm(cities)\n",
    "    t1 = process_time()\n",
    "    assert Counter(tour) == Counter(cities)\n",
    "    visualize_tour(tour)\n",
    "    print(\"{}:{} cities => tour length {:.0f}(in {:.3f} sec)\".format(name(algorithm), len(tour), distance_tour(tour), t1-t0))\n",
    "                                                                     \n",
    "def name(algorithm): return algorithm.__name__.replace('_tsp','')"
   ]
  },
  {
   "cell_type": "code",
   "execution_count": 17,
   "id": "1d28eb96-cf5e-47fc-ad38-52a77ae20b25",
   "metadata": {},
   "outputs": [],
   "source": [
    "def brute_force(cities):\n",
    "    \"Generate all possible tours of the cities and choose the shortest tour.\"\n",
    "    return shortest_tour(alltours(cities))\n",
    "def shortest_tour(tours): return min(tours, key=distance_tour)"
   ]
  },
  {
   "cell_type": "code",
   "execution_count": null,
   "id": "b5524d4e-6b41-4328-a4b4-082dd26db5c5",
   "metadata": {},
   "outputs": [
    {
     "name": "stderr",
     "output_type": "stream",
     "text": [
      "C:\\Users\\chelo\\AppData\\Local\\Temp\\ipykernel_18280\\318027806.py:16: DeprecationWarning: Seeding based on hashing is deprecated\n",
      "since Python 3.9 and will be removed in a subsequent version. The only \n",
      "supported seed types are: None, int, float, str, bytes, and bytearray.\n",
      "  random.seed((number_of_cities, seed))\n"
     ]
    }
   ],
   "source": [
    "tsp(brute_force, generate_cities(25))"
   ]
  },
  {
   "cell_type": "code",
   "execution_count": null,
   "id": "0fc6c1c6-95a1-4b07-8e24-a59cbc96217e",
   "metadata": {},
   "outputs": [],
   "source": []
  }
 ],
 "metadata": {
  "kernelspec": {
   "display_name": "Python 3 (ipykernel)",
   "language": "python",
   "name": "python3"
  },
  "language_info": {
   "codemirror_mode": {
    "name": "ipython",
    "version": 3
   },
   "file_extension": ".py",
   "mimetype": "text/x-python",
   "name": "python",
   "nbconvert_exporter": "python",
   "pygments_lexer": "ipython3",
   "version": "3.9.12"
  }
 },
 "nbformat": 4,
 "nbformat_minor": 5
}
