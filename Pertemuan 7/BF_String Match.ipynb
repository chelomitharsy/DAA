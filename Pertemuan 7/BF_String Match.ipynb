{
 "cells": [
  {
   "cell_type": "code",
   "execution_count": 1,
   "id": "65cfe7dc-8a93-44fd-a00c-4bab4be63ff8",
   "metadata": {},
   "outputs": [
    {
     "name": "stdout",
     "output_type": "stream",
     "text": [
      "4\n"
     ]
    }
   ],
   "source": [
    "def string_match(string, sub_str):\n",
    "    \n",
    "    for i in range(len(string)-len(sub_str)+1):\n",
    "        index = i\n",
    "    for j in range(len(sub_str)):\n",
    "        if string[index] == sub_str[j]:\n",
    "            index += 1\n",
    "        else:\n",
    "            break\n",
    "        if index-i == len(sub_str):\n",
    "            return i\n",
    "    return -1\n",
    "if __name__ == \"__main__\":\n",
    "    print(string_match(\"adbcbdc\", \"bdc\"))"
   ]
  },
  {
   "cell_type": "code",
   "execution_count": 7,
   "id": "8ff43759-1d5c-41b1-b18b-ee9ee8d540a6",
   "metadata": {},
   "outputs": [
    {
     "name": "stdout",
     "output_type": "stream",
     "text": [
      "<function string_match at 0x000001E281EE9550>\n"
     ]
    }
   ],
   "source": [
    "def string_match(string, sub_str):\n",
    "    \n",
    "    for i in range(len(string)-len(sub_str)+1):\n",
    "        index = i\n",
    "    for j in range(len(sub_str)):\n",
    "        if string[index] == sub_str[j]:\n",
    "            index += 1\n",
    "        else:\n",
    "            break\n",
    "        if index-i == len(sub_str):\n",
    "            return i\n",
    "    return -1\n",
    "if __name__ == \"__main__\":\n",
    "    print(string_match(\"123456789\", \"7\"))"
   ]
  },
  {
   "cell_type": "code",
   "execution_count": null,
   "id": "c587022a-d54d-4dc9-afee-5ac0e2d49f8c",
   "metadata": {},
   "outputs": [],
   "source": []
  }
 ],
 "metadata": {
  "kernelspec": {
   "display_name": "Python 3 (ipykernel)",
   "language": "python",
   "name": "python3"
  },
  "language_info": {
   "codemirror_mode": {
    "name": "ipython",
    "version": 3
   },
   "file_extension": ".py",
   "mimetype": "text/x-python",
   "name": "python",
   "nbconvert_exporter": "python",
   "pygments_lexer": "ipython3",
   "version": "3.9.12"
  }
 },
 "nbformat": 4,
 "nbformat_minor": 5
}
