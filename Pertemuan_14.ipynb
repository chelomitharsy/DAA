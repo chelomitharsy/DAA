{
  "nbformat": 4,
  "nbformat_minor": 0,
  "metadata": {
    "colab": {
      "provenance": []
    },
    "kernelspec": {
      "name": "python3",
      "display_name": "Python 3"
    },
    "language_info": {
      "name": "python"
    }
  },
  "cells": [
    {
      "cell_type": "code",
      "source": [
        "import networkx as nx\n",
        "import matplotlib.pyplot as plt"
      ],
      "metadata": {
        "id": "-q_dE3o3eBSQ"
      },
      "execution_count": 1,
      "outputs": []
    },
    {
      "cell_type": "code",
      "source": [
        "vertices = range(1, 10)\n",
        "edges = {(7, 2), (2, 3), (4, 5), (7, 3), (7, 5), (1, 6), (1, 7), (2, 8), (2, 9)}"
      ],
      "metadata": {
        "id": "VCy2jmFkeIfK"
      },
      "execution_count": 2,
      "outputs": []
    },
    {
      "cell_type": "code",
      "source": [
        "G = nx.Graph()"
      ],
      "metadata": {
        "id": "Yjwz9QLTeK82"
      },
      "execution_count": 3,
      "outputs": []
    },
    {
      "cell_type": "code",
      "source": [
        "G.add_nodes_from(vertices)\n",
        "G.add_edges_from(edges)\n",
        "pos = nx.spring_layout(G)"
      ],
      "metadata": {
        "id": "FlwuvrO5eNDV"
      },
      "execution_count": 4,
      "outputs": []
    },
    {
      "cell_type": "code",
      "source": [
        "nx.draw_networkx_nodes(G, pos, \n",
        "                       nodelist={1, 4, 3, 8, 9},\n",
        "                       node_color='g',\n",
        "                       node_size=1300)"
      ],
      "metadata": {
        "colab": {
          "base_uri": "https://localhost:8080/",
          "height": 265
        },
        "id": "SYU0C1OpePUG",
        "outputId": "1b66e190-7889-4789-e839-1da7159f1d41"
      },
      "execution_count": 5,
      "outputs": [
        {
          "output_type": "execute_result",
          "data": {
            "text/plain": [
              "<matplotlib.collections.PathCollection at 0x7f03303016d0>"
            ]
          },
          "metadata": {},
          "execution_count": 5
        },
        {
          "output_type": "display_data",
          "data": {
            "text/plain": [
              "<Figure size 432x288 with 1 Axes>"
            ],
            "image/png": "[encoded data removed]"
          },
          "metadata": {}
        }
      ]
    },
    {
      "cell_type": "code",
      "source": [
        "nx.draw_networkx_nodes(G, pos,\n",
        "                       nodelist={2, 5, 6, 7}, \n",
        "                       node_color='r',\n",
        "                       node_size=1300)"
      ],
      "metadata": {
        "colab": {
          "base_uri": "https://localhost:8080/",
          "height": 265
        },
        "id": "zIoDtAnteRrU",
        "outputId": "b63df873-089d-4337-c78b-5336ef026efd"
      },
      "execution_count": 6,
      "outputs": [
        {
          "output_type": "execute_result",
          "data": {
            "text/plain": [
              "<matplotlib.collections.PathCollection at 0x7f032fe11610>"
            ]
          },
          "metadata": {},
          "execution_count": 6
        },
        {
          "output_type": "display_data",
          "data": {
            "text/plain": [
              "<Figure size 432x288 with 1 Axes>"
            ],
            "image/png": "[encoded data removed]"
          },
          "metadata": {}
        }
      ]
    },
    {
      "cell_type": "code",
      "source": [
        "nx.draw_networkx_edges(G, pos, edges, width=3, alpha=0.5,edge_color='b')\n",
        "labels = {}\n",
        "labels[1] = r'1 NF'\n",
        "labels[2] = r'2 F'\n",
        "labels[3] = r'3 NF'\n",
        "labels[4] = r'4 NF'\n",
        "labels[5] = r'5 F'\n",
        "labels[6] = r'6 F'\n",
        "labels[7] = r'7 F'\n",
        "labels[8] = r'8 NF'\n",
        "labels[9] = r'9 NF'\n",
        "\n",
        "nx.draw_networkx_labels(G, pos, labels, font_size=16)"
      ],
      "metadata": {
        "colab": {
          "base_uri": "https://localhost:8080/",
          "height": 404
        },
        "id": "jE1hH1ereV0E",
        "outputId": "68f5f908-f487-4156-9376-b0b9b2b8b603"
      },
      "execution_count": 7,
      "outputs": [
        {
          "output_type": "execute_result",
          "data": {
            "text/plain": [
              "{1: Text(-0.30277660615768986, 0.5960158158372442, '1 NF'),\n",
              " 2: Text(-0.12145073145562044, -0.5099897206041889, '2 F'),\n",
              " 3: Text(-0.20227870429334605, -0.18020802514855438, '3 NF'),\n",
              " 4: Text(1.0, 0.5048065866850968, '4 NF'),\n",
              " 5: Text(0.5698687498827576, 0.33221031834788844, '5 F'),\n",
              " 6: Text(-0.5830393163462427, 0.9693502618610366, '6 F'),\n",
              " 7: Text(0.026876105417638293, 0.10762725785979507, '7 F'),\n",
              " 8: Text(-0.4573984689041489, -0.8666333117042295, '8 NF'),\n",
              " 9: Text(0.07019897185665173, -0.9531791831340881, '9 NF')}"
            ]
          },
          "metadata": {},
          "execution_count": 7
        },
        {
          "output_type": "display_data",
          "data": {
            "text/plain": [
              "<Figure size 432x288 with 1 Axes>"
            ],
            "image/png": "[encoded data removed]"
          },
          "metadata": {}
        }
      ]
    },
    {
      "cell_type": "code",
      "source": [],
      "metadata": {
        "id": "cSydpCZaeYIU"
      },
      "execution_count": null,
      "outputs": []
    }
  ]
}