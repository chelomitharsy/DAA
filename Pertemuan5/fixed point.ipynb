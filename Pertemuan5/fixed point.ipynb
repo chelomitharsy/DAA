{
 "cells": [
  {
   "cell_type": "code",
   "execution_count": 1,
   "id": "526fc7d2-0739-46ba-a25c-c24779d37f67",
   "metadata": {},
   "outputs": [],
   "source": [
    "#Mencari Fixed Point dengan metode divide dan conquer\n",
    "\n",
    "def fixedPoint(arr,low,high):\n",
    "    if low>high:\n",
    "        return -1\n",
    "    if arr[high]==high:\n",
    "        return arr[high]\n",
    "    if arr[low]==low:\n",
    "        return arr[low]\n",
    "    mid=(low+high)//2\n",
    "    if arr[mid]==mid:\n",
    "        return arr[mid]\n",
    "    if mid>arr[mid]:\n",
    "        return fixedPoint(arr,mid+1,high)\n",
    "    else:\n",
    "        return fixedPoint(arr,low,mid-1)"
   ]
  },
  {
   "cell_type": "code",
   "execution_count": 2,
   "id": "8ba0518c-98e1-4b6d-a450-b0b9e13b97b9",
   "metadata": {},
   "outputs": [
    {
     "name": "stdout",
     "output_type": "stream",
     "text": [
      "1\n"
     ]
    }
   ],
   "source": [
    "arr=[9,1,4,5,2]\n",
    "print(fixedPoint(arr,0,len(arr)-1))"
   ]
  },
  {
   "cell_type": "code",
   "execution_count": null,
   "id": "c4c768ad-5444-4e34-b412-1ced464cd1e0",
   "metadata": {},
   "outputs": [],
   "source": [
    "-"
   ]
  }
 ],
 "metadata": {
  "kernelspec": {
   "display_name": "Python 3 (ipykernel)",
   "language": "python",
   "name": "python3"
  },
  "language_info": {
   "codemirror_mode": {
    "name": "ipython",
    "version": 3
   },
   "file_extension": ".py",
   "mimetype": "text/x-python",
   "name": "python",
   "nbconvert_exporter": "python",
   "pygments_lexer": "ipython3",
   "version": "3.9.12"
  }
 },
 "nbformat": 4,
 "nbformat_minor": 5
}
