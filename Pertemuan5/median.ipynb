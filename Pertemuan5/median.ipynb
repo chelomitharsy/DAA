{
 "cells": [
  {
   "cell_type": "code",
   "execution_count": 4,
   "id": "1f015547-abf0-4b30-9aed-dba552851929",
   "metadata": {},
   "outputs": [],
   "source": [
    "#Median dari dua array dengan divide dan conquer\n",
    "\n",
    "def medianOfArray(arr1, arr2, n):\n",
    "    m1=-1 #firstnumber\n",
    "    m2=-1 #secondnumber\n",
    "    count = 0\n",
    "    i = j = 0\n",
    "    while count<n+1:\n",
    "        count+=1\n",
    "        if i==n: #i == 5 index error if arr1[i]<arr2[j] is checked\n",
    "            m1=m2\n",
    "            m2=arr2[0]\n",
    "            break\n",
    "        if j==n:\n",
    "            m1=m2\n",
    "            m2=arr1[0]\n",
    "            break\n",
    "        if arr1[i]<arr2[j]:\n",
    "            m1=m2\n",
    "            m2=arr1[i]\n",
    "            i+=1\n",
    "        else:\n",
    "            m1=m2\n",
    "            m2=arr2[j]\n",
    "            j+=1\n",
    "    return(m1+m2)//2"
   ]
  },
  {
   "cell_type": "code",
   "execution_count": 6,
   "id": "fbbfa21d-0edb-4290-a27b-96afe93733e2",
   "metadata": {},
   "outputs": [],
   "source": [
    "arr1=[1,12,15,26,38]\n",
    "arr2=[2,13,17,30,45]"
   ]
  },
  {
   "cell_type": "code",
   "execution_count": 7,
   "id": "b5d66f42-6b17-401b-8742-05398792d703",
   "metadata": {},
   "outputs": [
    {
     "name": "stdout",
     "output_type": "stream",
     "text": [
      "16\n"
     ]
    }
   ],
   "source": [
    "print(medianOfArray(arr1,arr2,len(arr1)))"
   ]
  },
  {
   "cell_type": "code",
   "execution_count": 10,
   "id": "2c195792-7d02-41be-a3e6-4c27fb737f9c",
   "metadata": {},
   "outputs": [],
   "source": [
    "#Floor in sorted array\n",
    "\n",
    "def floorSorted(arr,low,high,x):\n",
    "    #print(low,high)\n",
    "    if low>high:\n",
    "        return -1\n",
    "    \n",
    "    if arr[low]>x:\n",
    "        #print(\"inside\")\n",
    "        return-1\n",
    "    \n",
    "    if arr[high]<=x:\n",
    "        return arr[high]\n",
    "    \n",
    "    mid=(low+high)//2\n",
    "    \n",
    "    if arr[mid]==x:\n",
    "        return arr[mid]\n",
    "    \n",
    "    if mid>0 and x>=arr[mid-1] and arr[mid]>x:\n",
    "        return arr[mid-1]\n",
    "    \n",
    "    if mid<high and x<arr[mid+1] and x>=arr[mid]:\n",
    "        return arr[mid]\n",
    "    \n",
    "    if x>arr[mid]:\n",
    "        return floorSorted(arr, mid+1, high, x)\n",
    "    else:\n",
    "        return floorSorted(arr, low, mid-1, x)"
   ]
  },
  {
   "cell_type": "code",
   "execution_count": 11,
   "id": "ee3007c7-75db-4a9c-addf-a69c349d8648",
   "metadata": {},
   "outputs": [],
   "source": [
    "arr=[1,2,8,10,12,14,19]"
   ]
  },
  {
   "cell_type": "code",
   "execution_count": 12,
   "id": "ace81140-bd6b-492f-8858-08922544c2f2",
   "metadata": {},
   "outputs": [],
   "source": [
    "x=5"
   ]
  },
  {
   "cell_type": "code",
   "execution_count": 13,
   "id": "0c052cae-23ce-4e2a-8445-9d4531c096fe",
   "metadata": {},
   "outputs": [
    {
     "name": "stdout",
     "output_type": "stream",
     "text": [
      "2\n"
     ]
    }
   ],
   "source": [
    "print(floorSorted(arr,0,len(arr)-1,x))"
   ]
  },
  {
   "cell_type": "code",
   "execution_count": null,
   "id": "5779af24-8050-483a-a10e-7f330df89c79",
   "metadata": {},
   "outputs": [],
   "source": []
  }
 ],
 "metadata": {
  "kernelspec": {
   "display_name": "Python 3 (ipykernel)",
   "language": "python",
   "name": "python3"
  },
  "language_info": {
   "codemirror_mode": {
    "name": "ipython",
    "version": 3
   },
   "file_extension": ".py",
   "mimetype": "text/x-python",
   "name": "python",
   "nbconvert_exporter": "python",
   "pygments_lexer": "ipython3",
   "version": "3.9.12"
  }
 },
 "nbformat": 4,
 "nbformat_minor": 5
}
