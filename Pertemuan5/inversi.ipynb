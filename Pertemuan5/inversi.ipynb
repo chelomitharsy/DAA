{
 "cells": [
  {
   "cell_type": "code",
   "execution_count": 6,
   "id": "8e73726f-e631-498d-9147-23df8c7f8b6d",
   "metadata": {},
   "outputs": [],
   "source": [
    "#Hitung Inversi\n",
    "def countInversion(arr):\n",
    "    result = 0\n",
    "    for i in range(len(arr)):\n",
    "        for j in range(i+1,len(arr)):\n",
    "            if arr[i]>arr[j]:\n",
    "                result+=1\n",
    "    return result"
   ]
  },
  {
   "cell_type": "code",
   "execution_count": 7,
   "id": "9cff9eb0-fd89-4de6-ba4a-68a9c7d58b84",
   "metadata": {},
   "outputs": [],
   "source": [
    "arr=[21, 70, 36, 14, 25]"
   ]
  },
  {
   "cell_type": "code",
   "execution_count": 9,
   "id": "5d1898d9-4901-45df-98de-dccc68c2b14c",
   "metadata": {},
   "outputs": [
    {
     "name": "stdout",
     "output_type": "stream",
     "text": [
      "6\n"
     ]
    }
   ],
   "source": [
    "result=countInversion(arr)\n",
    "print(result)"
   ]
  },
  {
   "cell_type": "code",
   "execution_count": 12,
   "id": "963bbc79-22cd-4cdf-90cc-f4f737e218f4",
   "metadata": {},
   "outputs": [],
   "source": [
    "#Hitung Inversi dg divide dan conquer\n",
    "\n",
    "def countInversion(arr):\n",
    "    icount=0\n",
    "    if len(arr)<=1:\n",
    "        return icount\n",
    "    \n",
    "    mid=len(arr)//2\n",
    "    left=arr[:mid]\n",
    "    right=arr[mid:]\n",
    "    icount+=countInversion(left)\n",
    "    icount+=countInversion(right)\n",
    "    i=j=k=0\n",
    "    \n",
    "    #print(left)\n",
    "    #print(right)\n",
    "    while i<len(left) and j<len(right):\n",
    "        if left[i]<right[j]:\n",
    "            arr[k]=left[i]\n",
    "            i+=1\n",
    "        else:\n",
    "            #print(left[i],right[j])\n",
    "            arr[k]=right[j]\n",
    "            j+=1\n",
    "            icount+=(mid-i)\n",
    "        k+=1\n",
    "    \n",
    "    while i<len(left):\n",
    "        arr[k]=left[i]\n",
    "        i+=1\n",
    "        k+=1\n",
    "    while j<len(right):\n",
    "        arr[k]=right[j]\n",
    "        j+=1\n",
    "        k+=1\n",
    "    \n",
    "    return icount"
   ]
  },
  {
   "cell_type": "code",
   "execution_count": 13,
   "id": "ef4ea5de-3b29-4dc8-87c0-b1c2359c9b0e",
   "metadata": {},
   "outputs": [],
   "source": [
    "arr=[1,20,6,4,5]"
   ]
  },
  {
   "cell_type": "code",
   "execution_count": 14,
   "id": "82437d4b-912a-4331-b943-0c2fe8b030c9",
   "metadata": {},
   "outputs": [
    {
     "name": "stdout",
     "output_type": "stream",
     "text": [
      "5\n"
     ]
    }
   ],
   "source": [
    "result = countInversion(arr)\n",
    "print(result)"
   ]
  },
  {
   "cell_type": "code",
   "execution_count": null,
   "id": "6d23a64a-7817-4523-a1db-a4676d88943c",
   "metadata": {},
   "outputs": [],
   "source": []
  }
 ],
 "metadata": {
  "kernelspec": {
   "display_name": "Python 3 (ipykernel)",
   "language": "python",
   "name": "python3"
  },
  "language_info": {
   "codemirror_mode": {
    "name": "ipython",
    "version": 3
   },
   "file_extension": ".py",
   "mimetype": "text/x-python",
   "name": "python",
   "nbconvert_exporter": "python",
   "pygments_lexer": "ipython3",
   "version": "3.9.12"
  }
 },
 "nbformat": 4,
 "nbformat_minor": 5
}
