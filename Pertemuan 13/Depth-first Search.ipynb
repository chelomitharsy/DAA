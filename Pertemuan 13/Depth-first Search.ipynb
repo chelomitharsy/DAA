{
 "cells": [
  {
   "cell_type": "code",
   "execution_count": 3,
   "id": "57d3881e-43c0-4f89-9717-a9ad5dfe822f",
   "metadata": {},
   "outputs": [],
   "source": [
    "def dfs(graph, start, visited=None):\n",
    "    if visited is None:\n",
    "        visited = set()\n",
    "    visited.add(start)\n",
    "    print(start)\n",
    "    for next in graph[start] - visited:\n",
    "        dfs(graph, next, visited)\n",
    "    return visited"
   ]
  },
  {
   "cell_type": "code",
   "execution_count": 4,
   "id": "6e31dd73-e990-47d9-989a-afb849073bda",
   "metadata": {},
   "outputs": [],
   "source": [
    "graph={'Amin' : {'Wasim', 'Nick', 'Mike'},\n",
    "       'Wasim' : {'Imran', 'Amin'},\n",
    "       'Imran' : {'Wasim', 'Faras'},\n",
    "       'Faras' : {'Imran'},\n",
    "       'Mike' : {'Amin'},\n",
    "       'Nick' : {'Amin'}}"
   ]
  },
  {
   "cell_type": "code",
   "execution_count": 5,
   "id": "7b2a8226-b4c1-40e4-a12c-b782964a4e8f",
   "metadata": {},
   "outputs": [
    {
     "name": "stdout",
     "output_type": "stream",
     "text": [
      "Amin\n",
      "Nick\n",
      "Wasim\n",
      "Imran\n",
      "Faras\n",
      "Mike\n"
     ]
    },
    {
     "data": {
      "text/plain": [
       "{'Amin', 'Faras', 'Imran', 'Mike', 'Nick', 'Wasim'}"
      ]
     },
     "execution_count": 5,
     "metadata": {},
     "output_type": "execute_result"
    }
   ],
   "source": [
    "dfs(graph, 'Amin')"
   ]
  },
  {
   "cell_type": "code",
   "execution_count": 6,
   "id": "872d39cb-538e-4b80-8813-0800db2c11fe",
   "metadata": {},
   "outputs": [
    {
     "name": "stdout",
     "output_type": "stream",
     "text": [
      "Wasim\n",
      "Amin\n",
      "Nick\n",
      "Mike\n",
      "Imran\n",
      "Faras\n"
     ]
    },
    {
     "data": {
      "text/plain": [
       "{'Amin', 'Faras', 'Imran', 'Mike', 'Nick', 'Wasim'}"
      ]
     },
     "execution_count": 6,
     "metadata": {},
     "output_type": "execute_result"
    }
   ],
   "source": [
    "dfs(graph, 'Wasim')"
   ]
  },
  {
   "cell_type": "code",
   "execution_count": 7,
   "id": "a03c97af-0fc2-459c-bf5b-5d22297e6eda",
   "metadata": {},
   "outputs": [
    {
     "name": "stdout",
     "output_type": "stream",
     "text": [
      "Faras\n",
      "Imran\n",
      "Wasim\n",
      "Amin\n",
      "Nick\n",
      "Mike\n"
     ]
    },
    {
     "data": {
      "text/plain": [
       "{'Amin', 'Faras', 'Imran', 'Mike', 'Nick', 'Wasim'}"
      ]
     },
     "execution_count": 7,
     "metadata": {},
     "output_type": "execute_result"
    }
   ],
   "source": [
    "dfs(graph, 'Faras')"
   ]
  },
  {
   "cell_type": "code",
   "execution_count": 8,
   "id": "ac4fb6ac-d037-41e2-bb39-4e6343803744",
   "metadata": {},
   "outputs": [
    {
     "name": "stdout",
     "output_type": "stream",
     "text": [
      "Nick\n",
      "Amin\n",
      "Wasim\n",
      "Imran\n",
      "Faras\n",
      "Mike\n"
     ]
    },
    {
     "data": {
      "text/plain": [
       "{'Amin', 'Faras', 'Imran', 'Mike', 'Nick', 'Wasim'}"
      ]
     },
     "execution_count": 8,
     "metadata": {},
     "output_type": "execute_result"
    }
   ],
   "source": [
    "dfs(graph, 'Nick')"
   ]
  },
  {
   "cell_type": "code",
   "execution_count": 9,
   "id": "09402e3c-366c-4d41-bee3-3165ab0df57a",
   "metadata": {},
   "outputs": [],
   "source": [
    "graph={'Rektor' : {'Warek 1', 'Warek 2'},\n",
    "       'Warek 1' : {'Rektor'},\n",
    "       'Warek 2' : {'Kaprodi 1', 'Kaprodi 2', 'Kaprodi 3', 'Rektor'},\n",
    "       'Kaprodi 1' : {'Warek 2', 'Dosen A', 'Dosen B', 'Dosen C'},\n",
    "       'Kaprodi 2' : {'Warek 2', 'Dosen D', 'Dosen E'},\n",
    "       'Kaprodi 3' : {'Warek 2', 'Dosen F', 'Dosen G'},\n",
    "       'Dosen A' : {'Kaprodi 1'},\n",
    "       'Dosen B' : {'Kaprodi 1'},\n",
    "       'Dosen C' : {'Kaprodi 1'},\n",
    "       'Dosen D' : {'Kaprodi 2'},\n",
    "       'Dosen E' : {'Kaprodi 2'},\n",
    "       'Dosen F' : {'Kaprodi 3'},\n",
    "       'Dosen G' : {'Kaprodi 3'}}"
   ]
  },
  {
   "cell_type": "code",
   "execution_count": 11,
   "id": "d622d72e-ceb1-4820-8b20-74a5b30f593a",
   "metadata": {},
   "outputs": [
    {
     "name": "stdout",
     "output_type": "stream",
     "text": [
      "Rektor\n",
      "Warek 1\n",
      "Warek 2\n",
      "Kaprodi 1\n",
      "Dosen A\n",
      "Dosen C\n",
      "Dosen B\n",
      "Kaprodi 3\n",
      "Dosen G\n",
      "Dosen F\n",
      "Kaprodi 2\n",
      "Dosen E\n",
      "Dosen D\n"
     ]
    },
    {
     "data": {
      "text/plain": [
       "{'Dosen A',\n",
       " 'Dosen B',\n",
       " 'Dosen C',\n",
       " 'Dosen D',\n",
       " 'Dosen E',\n",
       " 'Dosen F',\n",
       " 'Dosen G',\n",
       " 'Kaprodi 1',\n",
       " 'Kaprodi 2',\n",
       " 'Kaprodi 3',\n",
       " 'Rektor',\n",
       " 'Warek 1',\n",
       " 'Warek 2'}"
      ]
     },
     "execution_count": 11,
     "metadata": {},
     "output_type": "execute_result"
    }
   ],
   "source": [
    "dfs(graph, 'Rektor')"
   ]
  },
  {
   "cell_type": "code",
   "execution_count": null,
   "id": "e591b90d-c865-4098-b23a-c8e9152e5d7d",
   "metadata": {},
   "outputs": [],
   "source": []
  }
 ],
 "metadata": {
  "kernelspec": {
   "display_name": "Python 3 (ipykernel)",
   "language": "python",
   "name": "python3"
  },
  "language_info": {
   "codemirror_mode": {
    "name": "ipython",
    "version": 3
   },
   "file_extension": ".py",
   "mimetype": "text/x-python",
   "name": "python",
   "nbconvert_exporter": "python",
   "pygments_lexer": "ipython3",
   "version": "3.9.12"
  }
 },
 "nbformat": 4,
 "nbformat_minor": 5
}
