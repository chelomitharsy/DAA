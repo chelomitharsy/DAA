{
 "cells": [
  {
   "cell_type": "code",
   "execution_count": 1,
   "id": "61f3842c-f3f9-4188-a47b-ba2883914ab8",
   "metadata": {},
   "outputs": [],
   "source": [
    "def bfs(graph, start):\n",
    "    visited = []\n",
    "    queue = [start]\n",
    "    \n",
    "    while queue:\n",
    "        node = queue.pop(0)\n",
    "        if node not in visited:\n",
    "            visited.append(node)\n",
    "            neighbours = graph[node]\n",
    "            for neighbour in neighbours:\n",
    "                queue.append(neighbour)\n",
    "    return visited"
   ]
  },
  {
   "cell_type": "code",
   "execution_count": 2,
   "id": "2386c46c-896a-4909-8475-bce0ab5f80d3",
   "metadata": {},
   "outputs": [],
   "source": [
    "graph={'Amin' : {'Wasim', 'Nick', 'Mike'},\n",
    "       'Wasim' : {'Imran', 'Amin'},\n",
    "       'Imran' : {'Wasim', 'Faras'},\n",
    "       'Faras' : {'Imran'},\n",
    "       'Mike' : {'Amin'},\n",
    "       'Nick' : {'Amin'}}"
   ]
  },
  {
   "cell_type": "code",
   "execution_count": 3,
   "id": "23b54e7f-94e9-4805-8452-d6ef359e2967",
   "metadata": {},
   "outputs": [
    {
     "data": {
      "text/plain": [
       "['Amin', 'Nick', 'Mike', 'Wasim', 'Imran', 'Faras']"
      ]
     },
     "execution_count": 3,
     "metadata": {},
     "output_type": "execute_result"
    }
   ],
   "source": [
    "bfs(graph,'Amin')"
   ]
  },
  {
   "cell_type": "code",
   "execution_count": 4,
   "id": "95038034-be0f-4015-8f4d-c7846d576375",
   "metadata": {},
   "outputs": [
    {
     "data": {
      "text/plain": [
       "['Amin', 'Nick', 'Mike', 'Wasim', 'Imran', 'Faras']"
      ]
     },
     "execution_count": 4,
     "metadata": {},
     "output_type": "execute_result"
    }
   ],
   "source": [
    "# o amin --------------\n",
    "# |         |          |\n",
    "# o wasim   o nick     o mike\n",
    "# |\n",
    "# o imran\n",
    "# |\n",
    "# o faras\n",
    "\n",
    "bfs(graph, 'Amin')"
   ]
  },
  {
   "cell_type": "code",
   "execution_count": 5,
   "id": "2aa39add-89cb-49fa-b0ab-51cf6472b6fd",
   "metadata": {},
   "outputs": [
    {
     "data": {
      "text/plain": [
       "['Wasim', 'Amin', 'Imran', 'Nick', 'Mike', 'Faras']"
      ]
     },
     "execution_count": 5,
     "metadata": {},
     "output_type": "execute_result"
    }
   ],
   "source": [
    "# o wasim ----\n",
    "# |          |\n",
    "# o imran    o amin ----\n",
    "# |          |         |\n",
    "# o faras    o nick    o mike\n",
    "\n",
    "bfs(graph, 'Wasim')"
   ]
  },
  {
   "cell_type": "code",
   "execution_count": 6,
   "id": "3ec5a3d9-7999-4cba-986f-30703eed7f6d",
   "metadata": {},
   "outputs": [
    {
     "data": {
      "text/plain": [
       "['Faras', 'Imran', 'Wasim', 'Amin', 'Nick', 'Mike']"
      ]
     },
     "execution_count": 6,
     "metadata": {},
     "output_type": "execute_result"
    }
   ],
   "source": [
    "# o faras\n",
    "# |\n",
    "# o imran\n",
    "# |\n",
    "# o wasim  o nick  o mike\n",
    "# |        |       |\n",
    "# o amin ----------\n",
    "\n",
    "bfs(graph, 'Faras')"
   ]
  },
  {
   "cell_type": "code",
   "execution_count": 14,
   "id": "018bb7ef-f545-4d68-be2c-906482c5f781",
   "metadata": {},
   "outputs": [],
   "source": [
    "graph={'Rektor' : {'Warek 1', 'Warek 2'},\n",
    "       'Warek 1' : {'Rektor'},\n",
    "       'Warek 2' : {'Kaprodi 1', 'Kaprodi 2', 'Kaprodi 3', 'Rektor'},\n",
    "       'Kaprodi 1' : {'Warek 2', 'Dosen A', 'Dosen B', 'Dosen C'},\n",
    "       'Kaprodi 2' : {'Warek 2', 'Dosen D', 'Dosen E'},\n",
    "       'Kaprodi 3' : {'Warek 2', 'Dosen F', 'Dosen G'},\n",
    "       'Dosen A' : {'Kaprodi 1'},\n",
    "       'Dosen B' : {'Kaprodi 1'},\n",
    "       'Dosen C' : {'Kaprodi 1'},\n",
    "       'Dosen D' : {'Kaprodi 2'},\n",
    "       'Dosen E' : {'Kaprodi 2'},\n",
    "       'Dosen F' : {'Kaprodi 3'},\n",
    "       'Dosen G' : {'Kaprodi 3'}}"
   ]
  },
  {
   "cell_type": "code",
   "execution_count": 15,
   "id": "787bc8f4-72ab-4861-b4e7-6311fbc6d05f",
   "metadata": {},
   "outputs": [
    {
     "data": {
      "text/plain": [
       "['Rektor',\n",
       " 'Warek 2',\n",
       " 'Warek 1',\n",
       " 'Kaprodi 3',\n",
       " 'Kaprodi 2',\n",
       " 'Kaprodi 1',\n",
       " 'Dosen G',\n",
       " 'Dosen F',\n",
       " 'Dosen D',\n",
       " 'Dosen E',\n",
       " 'Dosen C',\n",
       " 'Dosen B',\n",
       " 'Dosen A']"
      ]
     },
     "execution_count": 15,
     "metadata": {},
     "output_type": "execute_result"
    }
   ],
   "source": [
    "bfs(graph, 'Rektor')"
   ]
  },
  {
   "cell_type": "code",
   "execution_count": 16,
   "id": "33017ddf-cf9e-414b-b46d-cde11122272b",
   "metadata": {},
   "outputs": [
    {
     "data": {
      "text/plain": [
       "['Warek 1',\n",
       " 'Rektor',\n",
       " 'Warek 2',\n",
       " 'Kaprodi 3',\n",
       " 'Kaprodi 2',\n",
       " 'Kaprodi 1',\n",
       " 'Dosen G',\n",
       " 'Dosen F',\n",
       " 'Dosen D',\n",
       " 'Dosen E',\n",
       " 'Dosen C',\n",
       " 'Dosen B',\n",
       " 'Dosen A']"
      ]
     },
     "execution_count": 16,
     "metadata": {},
     "output_type": "execute_result"
    }
   ],
   "source": [
    "bfs(graph, 'Warek 1')"
   ]
  },
  {
   "cell_type": "code",
   "execution_count": 17,
   "id": "8aa5d5ce-851b-47ef-9a3c-4c0e68484c09",
   "metadata": {},
   "outputs": [
    {
     "data": {
      "text/plain": [
       "['Warek 2',\n",
       " 'Kaprodi 3',\n",
       " 'Rektor',\n",
       " 'Kaprodi 2',\n",
       " 'Kaprodi 1',\n",
       " 'Dosen G',\n",
       " 'Dosen F',\n",
       " 'Warek 1',\n",
       " 'Dosen D',\n",
       " 'Dosen E',\n",
       " 'Dosen C',\n",
       " 'Dosen B',\n",
       " 'Dosen A']"
      ]
     },
     "execution_count": 17,
     "metadata": {},
     "output_type": "execute_result"
    }
   ],
   "source": [
    "bfs(graph, 'Warek 2')"
   ]
  },
  {
   "cell_type": "code",
   "execution_count": 18,
   "id": "7fa786c1-5ee6-4272-bf13-b6d8b62b6f5a",
   "metadata": {},
   "outputs": [
    {
     "data": {
      "text/plain": [
       "['Kaprodi 1',\n",
       " 'Warek 2',\n",
       " 'Dosen C',\n",
       " 'Dosen B',\n",
       " 'Dosen A',\n",
       " 'Kaprodi 3',\n",
       " 'Rektor',\n",
       " 'Kaprodi 2',\n",
       " 'Dosen G',\n",
       " 'Dosen F',\n",
       " 'Warek 1',\n",
       " 'Dosen D',\n",
       " 'Dosen E']"
      ]
     },
     "execution_count": 18,
     "metadata": {},
     "output_type": "execute_result"
    }
   ],
   "source": [
    "bfs(graph, 'Kaprodi 1')"
   ]
  },
  {
   "cell_type": "code",
   "execution_count": null,
   "id": "7e7571b5-01cd-42b7-adcc-8da4677c605a",
   "metadata": {},
   "outputs": [],
   "source": []
  }
 ],
 "metadata": {
  "kernelspec": {
   "display_name": "Python 3 (ipykernel)",
   "language": "python",
   "name": "python3"
  },
  "language_info": {
   "codemirror_mode": {
    "name": "ipython",
    "version": 3
   },
   "file_extension": ".py",
   "mimetype": "text/x-python",
   "name": "python",
   "nbconvert_exporter": "python",
   "pygments_lexer": "ipython3",
   "version": "3.9.12"
  }
 },
 "nbformat": 4,
 "nbformat_minor": 5
}
